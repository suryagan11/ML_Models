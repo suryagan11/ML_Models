{
 "cells": [
  {
   "cell_type": "markdown",
   "metadata": {
    "slideshow": {
     "slide_type": "slide"
    }
   },
   "source": [
    "<h1 align=\"center\">Random Forest</h1>"
   ]
  },
  {
   "cell_type": "markdown",
   "metadata": {
    "slideshow": {
     "slide_type": "slide"
    }
   },
   "source": [
    "# Content\n",
    "***\n",
    "- A person by the name Lucius' visits New York (short story)\n",
    "    in search of a **loan for a house**.\n",
    "- Shortcommings of Decision trees\n",
    "- Introducing Random Forests\n",
    "- Hyperparameters for Random Forests\n",
    "- Lucius' Optimal Parameters & Model Fitting \n",
    "- Predicting Lucius Loan Outcome \n",
    "*****"
   ]
  },
  {
   "cell_type": "markdown",
   "metadata": {
    "slideshow": {
     "slide_type": "slide"
    }
   },
   "source": [
    "## Lucius & New York\n",
    "***\n",
    "- After spending a few days at John's in Brooklyn, Lucius was going to the Grand Central Railway Station to head back home \n",
    "\n",
    "- He was in a cab and as usual, it was taking a lot time traveling from Brooklyn to Grand Central\n",
    "\n",
    "- In the cab, he realized that his cab can take multiple routes to the SAME destination\n"
   ]
  },
  {
   "cell_type": "markdown",
   "metadata": {
    "slideshow": {
     "slide_type": "subslide"
    }
   },
   "source": [
    "<center><img src=\"../images/rf1.png\" alt=\"Drawing\" style=\"width: 400px;\"/></center>"
   ]
  },
  {
   "cell_type": "markdown",
   "metadata": {
    "slideshow": {
     "slide_type": "subslide"
    }
   },
   "source": [
    "## Lucius & New York\n",
    "***\n",
    " - He pondered upon this a lot while he was on the train, returning home \n",
    " \n",
    " - He thought that what if he could use multiple Decision Trees to help in out in his model? \n",
    " \n",
    " - He doesn't HAVE to pick the best one (like how Google Maps picks the best route) \n",
    " \n",
    " - He could use the average of all predictions\n",
    " \n",
    " - Intuitively, this does seem like a good approach. More models will give a more robust prediction"
   ]
  },
  {
   "cell_type": "markdown",
   "metadata": {
    "slideshow": {
     "slide_type": "slide"
    }
   },
   "source": [
    "## Lucius' Approach \n",
    "***\n",
    "- He thought to use multiple trees as using just 1 tree limits his predictions to constrained by the specified hyper-parameters \n",
    "\n",
    "- Thus, the Decision Tree by itself did lack a few important characteristics\n",
    "\n",
    "- Let's see what they were and understand what Lucius was trying to achieve \n"
   ]
  },
  {
   "cell_type": "markdown",
   "metadata": {
    "slideshow": {
     "slide_type": "subslide"
    }
   },
   "source": [
    "## Revisiting Decision Trees \n",
    "***\n",
    "- Shortcomings of decision trees\n",
    "    - They overfit\n",
    "    - They are structurally unstable since we need to find the optimal hyper-parameters in order to interpret the result\n",
    "    \n",
    "    \n",
    "- Therefore, by using a greater number of Trees a.k.a a \"Forest\", Lucius thought that this is 1 way of getting a better fitting model and prediction"
   ]
  },
  {
   "cell_type": "markdown",
   "metadata": {
    "slideshow": {
     "slide_type": "slide"
    }
   },
   "source": [
    "## Bagging & Random Forest \n",
    "\n",
    "***\n",
    "- **Bagging** :\n",
    "\n",
    "- Boostrap Aggregation is called **Bagging**\n",
    "\n",
    "\n",
    "- It's Ensemble Meta-Algorithm\n",
    "\n",
    "\n",
    "- Used for improving the stability and accuray of ML algorithms \n",
    "\n",
    "\n",
    "- It can be used in both **Regression & Classification** techniques \n"
   ]
  },
  {
   "cell_type": "markdown",
   "metadata": {
    "slideshow": {
     "slide_type": "subslide"
    }
   },
   "source": [
    "## Bagging & Random Forest \n",
    "\n",
    "- In bagging, a random subset of the training data is selected to train each tree\n",
    "\n",
    "\n",
    "- Furthermore, the model randomly restricts the variables which may be used at the splits of each tree. Hence, the trees grown are dissimilar, but they still retain certain predictive power.\n",
    "\n",
    "\n",
    "- Let's build our intuition through an easy example and then return back to Lucius' Approach"
   ]
  },
  {
   "cell_type": "markdown",
   "metadata": {
    "slideshow": {
     "slide_type": "slide"
    }
   },
   "source": [
    "## Example - People's first preference of Entertainment\n",
    "***\n",
    " - A random sample of people were given 3 options when asked what their preferred mode of entertainment were. These options were :\n",
    "\n",
    "\n",
    " 1. Watching TV/Movies Online and at home (Netflix, etc) \n",
    " 2. Going to the Movie Theaters \n",
    " 3. Watching a live Play "
   ]
  },
  {
   "cell_type": "markdown",
   "metadata": {
    "slideshow": {
     "slide_type": "subslide"
    }
   },
   "source": [
    "## Entertainment\n",
    "***\n",
    "The information (variables) available in the dataset for each individual is the following:\n",
    "\n",
    "1. Age \n",
    "2. Gender\n",
    "3. Highest educational qualification\n",
    "4. Working in Industry \n",
    "5. Residence in Metro/Non-metro\n",
    "\n",
    "We need to come up with an algorithm to give an accurate prediction for an individual who has following traits:\n",
    "\n",
    "1. Age : 35 years \n",
    "2. Gender : Male \n",
    "3. Highest Educational Qualification : Diploma holder\n",
    "4. Industry : Manufacturing\n",
    "5. Residence : Metro\n",
    "\n",
    "We will only talk about random forest to make this prediction in our example"
   ]
  },
  {
   "cell_type": "markdown",
   "metadata": {
    "slideshow": {
     "slide_type": "subslide"
    }
   },
   "source": [
    "#### How the RF Algorithm works\n",
    " - Say, we have a random 1000 observations of Mexicans with 10 variables\n",
    " \n",
    " - Random forest tries to build multiple Decision Trees models with different samples and different initial variables. \n",
    " \n",
    " - For instance, it will take a random sample of 100 observation and 5 randomly chosen initial variables to build a CART model \n",
    " \n",
    " - It will repeat the process (say) 10 times and then make a final prediction on each observation\n",
    " \n",
    " - **Final prediction is a function of each prediction. This final prediction can simply be the mean or mode of each prediction**"
   ]
  },
  {
   "cell_type": "markdown",
   "metadata": {
    "slideshow": {
     "slide_type": "subslide"
    }
   },
   "source": [
    "## Back to Entertainment\n",
    "*** \n",
    " - Say, the algorithm Random forest picks up 10,000 observations with only one variable (for simplicity) to build each Decision Tree model. In total, we are looking at 5 Decision Tree models being built with different variables.\n",
    "\n",
    "- Remember: we have 5 variables in this dataset as described in the previous slides\n",
    "\n",
    "\n",
    "- In a real life problem, you will have more population sample and different combinations of  input variables. Let's have a look at the feature bands again:"
   ]
  },
  {
   "cell_type": "markdown",
   "metadata": {
    "slideshow": {
     "slide_type": "subslide"
    }
   },
   "source": [
    "## Back to Entertainment\n",
    "***\n",
    " Salary bands :\n",
    "\n",
    " Band 1) Watching TV/Movies Online and at home (Netflix, etc) \n",
    " \n",
    " Band 2) Going to the Movie Theaters \n",
    " \n",
    " Band 3) Watching a live Play \n",
    "\n",
    "Following are the outputs of the 5 different CART models"
   ]
  },
  {
   "cell_type": "markdown",
   "metadata": {
    "slideshow": {
     "slide_type": "subslide"
    }
   },
   "source": [
    "## Entertainment, Entertainment, Entertainment ;)\n",
    "***\n",
    "#### Note: These are outputs from the dataset and have been arranged in Tabular format for easy comprehension\n",
    "\n",
    "**CART 1: VARIABLE AGE**\n",
    "***\n",
    "<center><img src=\"../images/rf3.png\" alt=\"Drawng\" style=\"width: 400px;\"/></center>"
   ]
  },
  {
   "cell_type": "markdown",
   "metadata": {
    "slideshow": {
     "slide_type": "subslide"
    }
   },
   "source": [
    "**CART 2: Variable Gender**\n",
    "***\n",
    "<center><img src=\"../images/rf4.png\" alt=\"Drawing\" style=\"width: 400px;\"/></center>"
   ]
  },
  {
   "cell_type": "markdown",
   "metadata": {
    "slideshow": {
     "slide_type": "subslide"
    }
   },
   "source": [
    "**CART 3: Variable Education**\n",
    "***\n",
    "<center><img src=\"../images/rf5.png\" alt=\"Drawing\" style=\"width: 400px;\"/></center>"
   ]
  },
  {
   "cell_type": "markdown",
   "metadata": {
    "slideshow": {
     "slide_type": "subslide"
    }
   },
   "source": [
    "**CART 4: Variable Residence**\n",
    "***\n",
    "<center><img src=\"../images/rf6.png\" alt=\"Drawing\" style=\"width: 400px;\"/></center>"
   ]
  },
  {
   "cell_type": "markdown",
   "metadata": {
    "slideshow": {
     "slide_type": "subslide"
    }
   },
   "source": [
    "**CART 5: Variable Industry**\n",
    "***\n",
    "<center><img src=\"../images/rf7.png\" alt=\"Drawing\" style=\"width: 400px;\"/></center>"
   ]
  },
  {
   "cell_type": "markdown",
   "metadata": {
    "slideshow": {
     "slide_type": "subslide"
    }
   },
   "source": [
    "## Entertainment \n",
    "***\n",
    "Using these 5 CART models, we need to come up with set of probabilities that belong to each of the classes.\n",
    "\n",
    "- For simplicity, we will just take a mean of probabilities in this case study. \n",
    "\n",
    "- Other than simple mean, we also consider vote method to come up with the final prediction. To come up with the final prediction let’s locate the following profile in each CART model :\n",
    "\n",
    "    "
   ]
  },
  {
   "cell_type": "markdown",
   "metadata": {
    "slideshow": {
     "slide_type": "subslide"
    }
   },
   "source": [
    " 1. Age : 35 years \n",
    " \n",
    " 2. Gender : Male \n",
    " \n",
    " 3. Highest Educational Qualification : Diploma holder\n",
    " \n",
    " 4. Industry : Manufacturing\n",
    " \n",
    " 5. Residence : Metro"
   ]
  },
  {
   "cell_type": "markdown",
   "metadata": {
    "slideshow": {
     "slide_type": "subslide"
    }
   },
   "source": [
    "For each of these CART model, following is the distribution across entertainment bands :\n",
    "***\n",
    "<center><img src=\"../images/rf8.png\" alt=\"Drawing\" style=\"width: 400px;\"/></center>"
   ]
  },
  {
   "cell_type": "markdown",
   "metadata": {
    "slideshow": {
     "slide_type": "subslide"
    }
   },
   "source": [
    " - The final probability is simply the average of the probability in the same salary bands in different CART models\n",
    " \n",
    " - As you can see from this analysis, that there is 70% chance of this individual falling in class 1 (Watching TV/Movies Online at home using Netflix, etc) and around 24% chance of the individual falling in class 2 (Going to the Movie Theater)"
   ]
  },
  {
   "cell_type": "markdown",
   "metadata": {
    "slideshow": {
     "slide_type": "subslide"
    }
   },
   "source": [
    "## Wisdom of the Crowd \n",
    "***\n",
    " - A random forest is an example of an ensemble, which is a combination of predictions from different models.\n",
    " \n",
    " - In an ensemble, predictions could be combined either by majority-voting or by taking averages.\n",
    " \n",
    " - Provided in the next slide is an illustration of how an ensemble formed by majority-voting yields more accurate predictions than the individual models it is based on:"
   ]
  },
  {
   "cell_type": "markdown",
   "metadata": {
    "slideshow": {
     "slide_type": "subslide"
    }
   },
   "source": [
    "#### Note: The illustration below is a GIF not an image. Please see the whole image\n",
    "\n",
    "<center><img src=\"../images/rf2.gif\" alt=\"Drawing\" style=\"width: 550px;\"/></center>"
   ]
  },
  {
   "cell_type": "markdown",
   "metadata": {
    "slideshow": {
     "slide_type": "slide"
    }
   },
   "source": [
    "## Lucius' Approach\n",
    "***\n",
    "- After Jay's discussion on Ensembling with Lucius and John, Lucius had already been pretty intrigued by Random Forest \n",
    "\n",
    "- He expanded his knowledge and learnt how to build a Random Forest Classifier in Python\n",
    "\n",
    " "
   ]
  },
  {
   "cell_type": "code",
   "execution_count": 1,
   "metadata": {
    "scrolled": true,
    "slideshow": {
     "slide_type": "subslide"
    }
   },
   "outputs": [],
   "source": [
    "# Importing necessary packages\n",
    "import pandas as pd\n",
    "import numpy as np\n",
    "import matplotlib.pyplot as plt\n",
    "%matplotlib inline\n",
    "\n",
    "from sklearn.model_selection import train_test_split, GridSearchCV\n",
    "from sklearn.ensemble import RandomForestClassifier, RandomForestRegressor\n",
    "from sklearn.metrics import accuracy_score, roc_auc_score, make_scorer\n",
    "\n",
    "#ignoring the warnings\n",
    "import warnings\n",
    "warnings.filterwarnings('ignore')"
   ]
  },
  {
   "cell_type": "code",
   "execution_count": 2,
   "metadata": {
    "slideshow": {
     "slide_type": "subslide"
    }
   },
   "outputs": [
    {
     "data": {
      "text/html": [
       "<div>\n",
       "<style scoped>\n",
       "    .dataframe tbody tr th:only-of-type {\n",
       "        vertical-align: middle;\n",
       "    }\n",
       "\n",
       "    .dataframe tbody tr th {\n",
       "        vertical-align: top;\n",
       "    }\n",
       "\n",
       "    .dataframe thead th {\n",
       "        text-align: right;\n",
       "    }\n",
       "</style>\n",
       "<table border=\"1\" class=\"dataframe\">\n",
       "  <thead>\n",
       "    <tr style=\"text-align: right;\">\n",
       "      <th></th>\n",
       "      <th>ApplicantIncome</th>\n",
       "      <th>CoapplicantIncome</th>\n",
       "      <th>LoanAmount</th>\n",
       "      <th>Loan_Amount_Term</th>\n",
       "      <th>Credit_History</th>\n",
       "      <th>Loan_Status</th>\n",
       "    </tr>\n",
       "  </thead>\n",
       "  <tbody>\n",
       "    <tr>\n",
       "      <th>0</th>\n",
       "      <td>5849</td>\n",
       "      <td>0.0</td>\n",
       "      <td>0.0</td>\n",
       "      <td>360.0</td>\n",
       "      <td>1.0</td>\n",
       "      <td>1</td>\n",
       "    </tr>\n",
       "    <tr>\n",
       "      <th>1</th>\n",
       "      <td>4583</td>\n",
       "      <td>1508.0</td>\n",
       "      <td>128.0</td>\n",
       "      <td>360.0</td>\n",
       "      <td>1.0</td>\n",
       "      <td>0</td>\n",
       "    </tr>\n",
       "    <tr>\n",
       "      <th>2</th>\n",
       "      <td>3000</td>\n",
       "      <td>0.0</td>\n",
       "      <td>66.0</td>\n",
       "      <td>360.0</td>\n",
       "      <td>1.0</td>\n",
       "      <td>1</td>\n",
       "    </tr>\n",
       "    <tr>\n",
       "      <th>3</th>\n",
       "      <td>2583</td>\n",
       "      <td>2358.0</td>\n",
       "      <td>120.0</td>\n",
       "      <td>360.0</td>\n",
       "      <td>1.0</td>\n",
       "      <td>1</td>\n",
       "    </tr>\n",
       "    <tr>\n",
       "      <th>4</th>\n",
       "      <td>6000</td>\n",
       "      <td>0.0</td>\n",
       "      <td>141.0</td>\n",
       "      <td>360.0</td>\n",
       "      <td>1.0</td>\n",
       "      <td>1</td>\n",
       "    </tr>\n",
       "  </tbody>\n",
       "</table>\n",
       "</div>"
      ],
      "text/plain": [
       "   ApplicantIncome  CoapplicantIncome  LoanAmount  Loan_Amount_Term  \\\n",
       "0             5849                0.0         0.0             360.0   \n",
       "1             4583             1508.0       128.0             360.0   \n",
       "2             3000                0.0        66.0             360.0   \n",
       "3             2583             2358.0       120.0             360.0   \n",
       "4             6000                0.0       141.0             360.0   \n",
       "\n",
       "   Credit_History  Loan_Status  \n",
       "0             1.0            1  \n",
       "1             1.0            0  \n",
       "2             1.0            1  \n",
       "3             1.0            1  \n",
       "4             1.0            1  "
      ]
     },
     "execution_count": 2,
     "metadata": {},
     "output_type": "execute_result"
    }
   ],
   "source": [
    "# Reading data & separating it into train and test\n",
    "# Splitting the data into training and target set\n",
    "\n",
    "dataframe = pd.read_csv('../data/loan_prediction.csv')\n",
    "dataframe.head()"
   ]
  },
  {
   "cell_type": "code",
   "execution_count": 3,
   "metadata": {},
   "outputs": [],
   "source": [
    "# Splitting into input and target variable\n",
    "# Here, target = Credit_History\n",
    "y = dataframe[['Credit_History']]\n",
    "X = dataframe.drop(['Credit_History', 'Loan_Status'], axis=1)\n",
    "\n",
    "np.random.seed(9)\n",
    "# splitting into train and test set            \n",
    "X_train,X_test,y_train,y_test = train_test_split(X,y,test_size = 0.3, \n",
    "                                                 random_state = 42)"
   ]
  },
  {
   "cell_type": "markdown",
   "metadata": {
    "slideshow": {
     "slide_type": "subslide"
    }
   },
   "source": [
    "- Curious to practice his new found skills, Lucius firsts plays around with the Loan Prediction dataset by first, creating 2 Random Forest models with different parameters\n",
    "\n",
    "**One with min_samples_leaf set to 2**\n",
    "\n",
    "**One with max_depth set to 5**"
   ]
  },
  {
   "cell_type": "code",
   "execution_count": 4,
   "metadata": {
    "slideshow": {
     "slide_type": "subslide"
    }
   },
   "outputs": [
    {
     "data": {
      "text/plain": [
       "RandomForestClassifier(bootstrap=True, class_weight=None, criterion='gini',\n",
       "                       max_depth=5, max_features='auto', max_leaf_nodes=None,\n",
       "                       min_impurity_decrease=0.0, min_impurity_split=None,\n",
       "                       min_samples_leaf=1, min_samples_split=2,\n",
       "                       min_weight_fraction_leaf=0.0, n_estimators=10,\n",
       "                       n_jobs=None, oob_score=False, random_state=9, verbose=0,\n",
       "                       warm_start=False)"
      ]
     },
     "execution_count": 4,
     "metadata": {},
     "output_type": "execute_result"
    }
   ],
   "source": [
    "#model for tuning the min samples of leaf\n",
    "clf_1 = RandomForestClassifier(min_samples_leaf=2, random_state=9)\n",
    "clf_1.fit(X_train,y_train)\n",
    "\n",
    "#model for tuning the max depth\n",
    "clf_2 = RandomForestClassifier(max_depth = 5, random_state=9)\n",
    "clf_2.fit(X_train,y_train)"
   ]
  },
  {
   "cell_type": "code",
   "execution_count": 5,
   "metadata": {
    "slideshow": {
     "slide_type": "subslide"
    }
   },
   "outputs": [],
   "source": [
    "# predicting for min_samples 0f leaf as 2.\n",
    "y_clf_1 = clf_1.predict(X_test)\n",
    "\n",
    "# predicting for max depth 5.\n",
    "y_clf_2 = clf_2.predict(X_test)"
   ]
  },
  {
   "cell_type": "code",
   "execution_count": 6,
   "metadata": {
    "slideshow": {
     "slide_type": "subslide"
    }
   },
   "outputs": [
    {
     "name": "stdout",
     "output_type": "stream",
     "text": [
      "Accuracy score of the model with min sample leaf 2 is: 0.7351351351351352\n",
      "roc_auc_score of the model1 is: 0.5067838421214924\n",
      "\n",
      "\n",
      "Accuracy score of the model with max depth 5 is: 0.7351351351351352\n",
      "roc_auc_score of the model2 is: 0.4927536231884058\n"
     ]
    }
   ],
   "source": [
    "#calculate accuracy and roc auc score for min leaf samples\n",
    "\n",
    "accuracy_clf_1 = accuracy_score(y_test, y_clf_1)\n",
    "auc_roc1 = roc_auc_score(y_test, y_clf_1)\n",
    "print(\"Accuracy score of the model with min sample leaf 2 is: {}\".format(accuracy_clf_1))\n",
    "print(\"roc_auc_score of the model1 is: {}\".format(auc_roc1))\n",
    "\n",
    "print(\"\\n\")\n",
    "\n",
    "#calculate accuracy and roc auc score for max depth 5\n",
    "\n",
    "accuracy_clf_2 = accuracy_score(y_test,y_clf_2)\n",
    "auc_roc2 = roc_auc_score(y_test, y_clf_2)\n",
    "print(\"Accuracy score of the model with max depth 5 is: {}\".format(accuracy_clf_2))\n",
    "print(\"roc_auc_score of the model2 is: {}\".format(auc_roc2))\n"
   ]
  },
  {
   "cell_type": "markdown",
   "metadata": {
    "slideshow": {
     "slide_type": "subslide"
    }
   },
   "source": [
    "## Variation in the performance of the model\n",
    "***\n",
    "- In the above code Lucius used 2 different parameters for checking the performance of the models\n",
    "\n",
    "- The variation in the **accuracy** and the **roc_auc score** of the models indicates the increase in the performance of the model by tweaking the parameters"
   ]
  },
  {
   "cell_type": "markdown",
   "metadata": {
    "slideshow": {
     "slide_type": "subslide"
    }
   },
   "source": [
    "## The main weaknesses of using a random forest are:\n",
    "***\n",
    "They're difficult to interpret \n",
    "- Because we've averaging the results of many trees, it can be hard to figure out why a random forest is making predictions the way it is.\n",
    "- They take longer to create - Making two trees takes twice as long as making one, making three takes three times as long, and so on(But with compute no longer an issue). \n",
    "- Let's look into this further"
   ]
  },
  {
   "cell_type": "markdown",
   "metadata": {
    "slideshow": {
     "slide_type": "subslide"
    }
   },
   "source": [
    "## `n_jobs` saves the day \n",
    "***\n",
    "-  Fortunately, we can exploit multicore processors to parallelize tree construction\n",
    "\n",
    "- Scikit allows us to do this through the n_jobs parameter on RandomForestClassifier\n",
    "\n",
    "Homework Activity** - See the performance by changing the **n_jobs** in parameters input to see the difference for parallel construction of trees"
   ]
  },
  {
   "cell_type": "markdown",
   "metadata": {
    "slideshow": {
     "slide_type": "subslide"
    }
   },
   "source": [
    "## Deciding the number of trees to build \n",
    "\n",
    "* When we build a RandomForestClassifier, we pass in an **n_estimators** parameter that indicates **how many trees to build**\n",
    "\n",
    "* While adding more trees usually improves accuracy, it also increases the overall time the model takes to train.\n",
    "\n",
    "* RandomForestClassifier has a similar interface to DecisionTreeClassifier, and we can use the fit() and predict() methods to train and make predictions.\n",
    "\n",
    "- More trees, in general, does lead to better predictions but ***TOO MANY*** trees don't necessarily improve the prediction"
   ]
  },
  {
   "cell_type": "markdown",
   "metadata": {
    "slideshow": {
     "slide_type": "subslide"
    }
   },
   "source": [
    "## Criterion to split the nodes\n",
    "***\n",
    "- **Criterion** is the function to measure the quality of a split. \n",
    "- Supported criteria are **“gini”** for the Gini impurity and **“entropy”** for the information gain. \n",
    " \n",
    "- We have studied these in detail in Decision Trees. If you need to, please go back and review how Trees are split based on these scores"
   ]
  },
  {
   "cell_type": "markdown",
   "metadata": {
    "slideshow": {
     "slide_type": "slide"
    }
   },
   "source": [
    "## Some Caution - Hyperparameters\n",
    "\n",
    "- Random forests can still be prone to overfitting, though, so it's important to tune parameters like **maximum depth** and **minimum samples per leaf**\n",
    "\n",
    "- We got an intuition behind n_jobs, no. of trees, and we already know about the Criterion used to split the trees\n",
    "\n",
    "- ALL of these are treated as Hyperparameters and it's important to get optimal values since we want to fit the *BEST* possible model to our data! \n",
    "\n",
    "- Thus, Lucius turned through tuning these hyperparameters through a process already known to us: **Grid Searching! **"
   ]
  },
  {
   "cell_type": "markdown",
   "metadata": {
    "slideshow": {
     "slide_type": "subslide"
    }
   },
   "source": [
    "#### Hyper parameter tuning\n",
    "* These are the hyperparameters that Lucas is going to focus on tuning and get optimal values\n",
    "***\n",
    "     parameter = {\n",
    "                'n_estimators': [ ], \n",
    "                  'max_features': [], \n",
    "                  'criterion': [],\n",
    "                  'max_depth': ,\n",
    "                  'min_samples_split': [ ],\n",
    "                  'min_samples_leaf': [ ] \n",
    "               } \n",
    "#### Tweaking parameters can increase the accuracy of the forest. \n",
    "* These parameters apply to the individual trees in the model, and change how they are constructed. \n"
   ]
  },
  {
   "cell_type": "markdown",
   "metadata": {
    "slideshow": {
     "slide_type": "subslide"
    }
   },
   "source": [
    "- Lucius defined a Grid Search Function. Let's see how he went about this:"
   ]
  },
  {
   "cell_type": "code",
   "execution_count": 7,
   "metadata": {
    "slideshow": {
     "slide_type": "fragment"
    }
   },
   "outputs": [],
   "source": [
    "# Defined a custom function for implementing hyper parameter tuning\n",
    "def gridfunc(classifier, parameter, X_train, y_train):\n",
    "        \n",
    "    clf = classifier\n",
    "    np.random.seed(9)\n",
    "    parameters = parameter\n",
    "    acc_scorer = make_scorer(accuracy_score)\n",
    "    \n",
    "    # Run the grid search\n",
    "    grid_obj = GridSearchCV(clf, parameters, scoring=acc_scorer, return_train_score=True)\n",
    "    grid_obj = grid_obj.fit(X_train, y_train) \n",
    "    \n",
    "    return grid_obj"
   ]
  },
  {
   "cell_type": "code",
   "execution_count": 8,
   "metadata": {
    "slideshow": {
     "slide_type": "subslide"
    }
   },
   "outputs": [],
   "source": [
    "#function for plotting mean scores for a particular grid object\n",
    "\n",
    "def hp_cv_scores(grid_obj):\n",
    "    grid_obj.cv_results_  #A dictionary with keys as column title and values as columns\n",
    "    mean_test_scores = grid_obj.cv_results_['mean_test_score'] #Adding 'mean_test_score' as a key\n",
    "    mean_train_scores = grid_obj.cv_results_['mean_train_score'] #Adding 'mean_train_score' as a key\n",
    "    \n",
    "    plt.figure(figsize=(10,6))\n",
    "    \n",
    "    # the below lines just fill up the column using the various parameter values we want to try\n",
    "    all_vals = list(grid_obj.param_grid.values())\n",
    "    param_values =[str(x) for x in all_vals[0]]\n",
    "    \n",
    "    # The below line creates values for ticks on x axis. If there are 2 parameter values to be tried, it'll create 2 ticks\n",
    "    x = np.arange(1, len(param_values)+1)\n",
    "     \n",
    "    plt.plot(x,mean_train_scores, c='r', label='Train set') #Plotting the mean_train_scores in red\n",
    "    \n",
    "    plt.xticks(x,param_values)\n",
    "    \n",
    "    plt.plot(x,mean_test_scores,c='g', label='Test set') #Plotting the mean_test_scores in red\n",
    "    plt.xlabel(list(grid_obj.param_grid.keys())[0]) #Label of the column will be the hyperparameter\n",
    "    plt.ylabel('mean scores')\n",
    "    plt.legend()\n",
    "    plt.show()"
   ]
  },
  {
   "cell_type": "code",
   "execution_count": 9,
   "metadata": {
    "slideshow": {
     "slide_type": "subslide"
    }
   },
   "outputs": [],
   "source": [
    "classifier = RandomForestClassifier(random_state=9)"
   ]
  },
  {
   "cell_type": "code",
   "execution_count": 10,
   "metadata": {
    "slideshow": {
     "slide_type": "subslide"
    }
   },
   "outputs": [
    {
     "data": {
      "image/png": "[encoded data removed]",
      "text/plain": [
       "<Figure size 720x432 with 1 Axes>"
      ]
     },
     "metadata": {
      "needs_background": "light"
     },
     "output_type": "display_data"
    }
   ],
   "source": [
    "# plotting the graph using created function to find the variation in model for given n_estimators -- NEEDS LEGEND\n",
    "\n",
    "grid = gridfunc(classifier,{'n_estimators': [2, 3, 4]} , X_train, y_train)\n",
    "hp_cv_scores(grid)"
   ]
  },
  {
   "cell_type": "code",
   "execution_count": 11,
   "metadata": {
    "scrolled": false,
    "slideshow": {
     "slide_type": "subslide"
    }
   },
   "outputs": [
    {
     "data": {
      "image/png": "[encoded data removed]",
      "text/plain": [
       "<Figure size 720x432 with 1 Axes>"
      ]
     },
     "metadata": {
      "needs_background": "light"
     },
     "output_type": "display_data"
    }
   ],
   "source": [
    "# plotting the graph to find the variation in model for given max features\n",
    "\n",
    "grid = gridfunc(classifier,{'max_features': ['log2', 'sqrt']} , X_train, y_train)\n",
    "hp_cv_scores(grid)"
   ]
  },
  {
   "cell_type": "code",
   "execution_count": 12,
   "metadata": {
    "slideshow": {
     "slide_type": "subslide"
    }
   },
   "outputs": [
    {
     "data": {
      "image/png": "[encoded data removed]",
      "text/plain": [
       "<Figure size 720x432 with 1 Axes>"
      ]
     },
     "metadata": {
      "needs_background": "light"
     },
     "output_type": "display_data"
    }
   ],
   "source": [
    "# plotting the graph to find the variation in model for given criterion\n",
    "\n",
    "grid = gridfunc(classifier,{'criterion': ['entropy', 'gini']} , X_train, y_train)\n",
    "hp_cv_scores(grid)"
   ]
  },
  {
   "cell_type": "code",
   "execution_count": 13,
   "metadata": {
    "scrolled": false,
    "slideshow": {
     "slide_type": "subslide"
    }
   },
   "outputs": [
    {
     "data": {
      "image/png": "[encoded data removed]",
      "text/plain": [
       "<Figure size 720x432 with 1 Axes>"
      ]
     },
     "metadata": {
      "needs_background": "light"
     },
     "output_type": "display_data"
    }
   ],
   "source": [
    "# plotting the graph to find the variation in model for given max depth\n",
    "\n",
    "grid = gridfunc(classifier,{'max_depth': [2,4,6,8,16]} , X_train, y_train)\n",
    "hp_cv_scores(grid)"
   ]
  },
  {
   "cell_type": "code",
   "execution_count": 14,
   "metadata": {
    "slideshow": {
     "slide_type": "subslide"
    }
   },
   "outputs": [
    {
     "data": {
      "image/png": "[encoded data removed]",
      "text/plain": [
       "<Figure size 720x432 with 1 Axes>"
      ]
     },
     "metadata": {
      "needs_background": "light"
     },
     "output_type": "display_data"
    }
   ],
   "source": [
    "# plotting the graph to find the variation in model for given min samples split\n",
    "\n",
    "grid = gridfunc(classifier,{'min_samples_split': [2, 3, 5, 10, 15,20,25,30,35]} , X_train, y_train)\n",
    "hp_cv_scores(grid)"
   ]
  },
  {
   "cell_type": "code",
   "execution_count": 15,
   "metadata": {
    "slideshow": {
     "slide_type": "subslide"
    }
   },
   "outputs": [
    {
     "data": {
      "image/png": "[encoded data removed]",
      "text/plain": [
       "<Figure size 720x432 with 1 Axes>"
      ]
     },
     "metadata": {
      "needs_background": "light"
     },
     "output_type": "display_data"
    }
   ],
   "source": [
    "# plotting the graph to find the variation in model for given min samples leaf\n",
    "\n",
    "grid = gridfunc(classifier,{'min_samples_leaf': [1,3,5,8,50,100]} , X_train, y_train)\n",
    "hp_cv_scores(grid)"
   ]
  },
  {
   "cell_type": "code",
   "execution_count": 16,
   "metadata": {
    "slideshow": {
     "slide_type": "subslide"
    }
   },
   "outputs": [],
   "source": [
    "classifier = RandomForestClassifier(random_state=9)\n",
    "parameter = {'n_estimators': [10,50,100], \n",
    "              'max_features': ['log2', 'sqrt'], \n",
    "              'criterion': ['entropy', 'gini'],\n",
    "              'max_depth': [2,4,6], \n",
    "              'min_samples_split': [2, 3, 5],\n",
    "              'min_samples_leaf': [1,3,5]\n",
    "             }"
   ]
  },
  {
   "cell_type": "markdown",
   "metadata": {},
   "source": [
    "### The below code will create a Grid Object and train it. It might take a lot of time for the process to complete"
   ]
  },
  {
   "cell_type": "code",
   "execution_count": 17,
   "metadata": {
    "slideshow": {
     "slide_type": "subslide"
    }
   },
   "outputs": [],
   "source": [
    "#task find the results for the given params\n",
    "grid = gridfunc(classifier, parameter, X_train, y_train)"
   ]
  },
  {
   "cell_type": "code",
   "execution_count": 18,
   "metadata": {
    "slideshow": {
     "slide_type": "subslide"
    }
   },
   "outputs": [
    {
     "data": {
      "text/plain": [
       "RandomForestClassifier(bootstrap=True, class_weight=None, criterion='entropy',\n",
       "                       max_depth=2, max_features='log2', max_leaf_nodes=None,\n",
       "                       min_impurity_decrease=0.0, min_impurity_split=None,\n",
       "                       min_samples_leaf=1, min_samples_split=2,\n",
       "                       min_weight_fraction_leaf=0.0, n_estimators=10,\n",
       "                       n_jobs=None, oob_score=False, random_state=9, verbose=0,\n",
       "                       warm_start=False)"
      ]
     },
     "execution_count": 18,
     "metadata": {},
     "output_type": "execute_result"
    }
   ],
   "source": [
    "# Set the clf to the best combination of parameters\n",
    "clf = grid.best_estimator_\n",
    "    \n",
    "# Fit the best algorithm to the data. \n",
    "clf.fit(X_train, y_train)"
   ]
  },
  {
   "cell_type": "markdown",
   "metadata": {},
   "source": [
    "We have the best possible parameters for our model using GridSearch now!"
   ]
  },
  {
   "cell_type": "markdown",
   "metadata": {
    "slideshow": {
     "slide_type": "subslide"
    }
   },
   "source": [
    "#### Final overview\n",
    "\n",
    "* Random Forest is a bagging algorithm with decision tree as base classifier/regressor\n",
    "* The Random Forest algorithm introduces extra randomness when growing trees \n",
    "* Instead of searching for the very best feature when splitting a node it searches for the best feature among a random subset of features. \n",
    "* This results in a greater tree diversity, which trades a higher bias for a lower variance, generally yielding an overall better model. "
   ]
  },
  {
   "cell_type": "markdown",
   "metadata": {
    "slideshow": {
     "slide_type": "subslide"
    }
   },
   "source": [
    "- Random Forests can be easily deployed in a distributed fashion due to the fact that they can run in parallel and for imbalanced data Random Forest stratifys the sampling.\n",
    "- And it is true that they are more robust to overfitting and require less tuning to avoid it."
   ]
  },
  {
   "cell_type": "markdown",
   "metadata": {
    "slideshow": {
     "slide_type": "slide"
    }
   },
   "source": [
    "# Thank you "
   ]
  }
 ],
 "metadata": {
  "anaconda-cloud": {},
  "celltoolbar": "Slideshow",
  "kernelspec": {
   "display_name": "Python 3",
   "language": "python",
   "name": "python3"
  },
  "language_info": {
   "codemirror_mode": {
    "name": "ipython",
    "version": 3
   },
   "file_extension": ".py",
   "mimetype": "text/x-python",
   "name": "python",
   "nbconvert_exporter": "python",
   "pygments_lexer": "ipython3",
   "version": "3.7.3"
  },
  "widgets": {
   "state": {},
   "version": "1.1.2"
  }
 },
 "nbformat": 4,
 "nbformat_minor": 2
}
